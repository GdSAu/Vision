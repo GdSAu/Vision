{
 "cells": [
  {
   "cell_type": "code",
   "execution_count": 1,
   "id": "7b32e639",
   "metadata": {},
   "outputs": [],
   "source": [
    "import torch\n",
    "import numpy as np\n",
    "from torchvision import datasets\n",
    "import torchvision.transforms as transforms\n",
    "from torch.utils.data.sampler import SubsetRandomSampler\n",
    "import matplotlib.pyplot as plt\n",
    "%matplotlib inline\n",
    "import torch.nn as nn\n",
    "import torch.nn.functional as F# define la arquitectura de RN "
   ]
  },
  {
   "cell_type": "markdown",
   "id": "3e4d0ee2",
   "metadata": {},
   "source": [
    "## Preproceso de datos"
   ]
  },
  {
   "cell_type": "code",
   "execution_count": 3,
   "id": "d3f31828",
   "metadata": {},
   "outputs": [],
   "source": [
    "num_workers = 0 #Numero de subprocesos a emplear para lectura de datos\n",
    "batch_size = 20 #Cuantos datos contendra cada conjunto \n",
    "validation_size = .2 #tamano de conjunto de validacion\n",
    "transform = transforms.ToTensor() #Convierte los datos a torch.FloatTensor\n",
    "# Carga de conjunto de entrenamiento y prueba\n",
    "entrena_data = datasets.MNIST(root = 'data', train = True, download = True, transform = transform)\n",
    "prueba_data = datasets.MNIST(root = 'data', train = False, download = True, transform = transform)\n",
    "#Obteniendo los indices de entrenamiento que seran empleados para validacion\n",
    "num_entrena = len(entrena_data)\n",
    "indices = list(range(num_entrena))\n",
    "np.random.shuffle(indices)\n",
    "part = int(np.floor(validation_size * num_entrena))\n",
    "#Define el tamano para conjunto de entrenamiento y validacion\n",
    "entrena_ind, valida_ind = indices[part:], indices[:part]\n",
    "#Definimos los conjuntos de entrenamiento y validacion\n",
    "entrena_mues = SubsetRandomSampler(entrena_ind)\n",
    "valida_mues = SubsetRandomSampler(valida_ind)\n",
    "#Lectores de datos\n",
    "entrena_lec = torch.utils.data.DataLoader(entrena_data, batch_size = batch_size, \n",
    "                                           sampler = entrena_mues, num_workers = num_workers)\n",
    "valida_lec = torch.utils.data.DataLoader(entrena_data, batch_size = batch_size,\n",
    "                                          sampler = valida_mues, num_workers = num_workers)\n",
    "prueba_lec = torch.utils.data.DataLoader(prueba_data, batch_size = batch_size,\n",
    "                                         num_workers = num_workers)"
   ]
  },
  {
   "cell_type": "code",
   "execution_count": 6,
   "id": "83774d2e",
   "metadata": {},
   "outputs": [
    {
     "name": "stderr",
     "output_type": "stream",
     "text": [
      "/tmp/ipykernel_12483/3397805297.py:9: MatplotlibDeprecationWarning: Passing non-integers as three-element position specification is deprecated since 3.3 and will be removed two minor releases later.\n",
      "  ax = fig.add_subplot(2,20/2, idx+1, xticks=[], yticks=[])\n"
     ]
    },
    {
     "data": {
      "image/png": "[encoded data removed]",
      "text/plain": [
       "<Figure size 1800x288 with 20 Axes>"
      ]
     },
     "metadata": {},
     "output_type": "display_data"
    }
   ],
   "source": [
    "#Verificar si los datos se han leido correctamente\n",
    "#Se toma un conjunto con tamano del batch\n",
    "data_iter = iter(entrena_lec)\n",
    "img, etiquetas = data_iter.next()\n",
    "img = img.numpy()\n",
    "fig = plt.figure(figsize=(25,4))\n",
    "\n",
    "for idx in np.arange(20):\n",
    "    ax = fig.add_subplot(2,20/2, idx+1, xticks=[], yticks=[])\n",
    "    ax.imshow(np.squeeze(img[idx]), cmap = 'gray')\n",
    "    ax.set_title(str(etiquetas[idx].item()))"
   ]
  },
  {
   "cell_type": "markdown",
   "id": "d5d4df2e",
   "metadata": {},
   "source": [
    "# Arquitectura"
   ]
  },
  {
   "cell_type": "code",
   "execution_count": 7,
   "id": "7c28d7ca",
   "metadata": {},
   "outputs": [
    {
     "name": "stdout",
     "output_type": "stream",
     "text": [
      "MLP(\n",
      "  (fc1): Linear(in_features=784, out_features=512, bias=True)\n",
      "  (fc2): Linear(in_features=512, out_features=512, bias=True)\n",
      "  (fc3): Linear(in_features=512, out_features=512, bias=True)\n",
      "  (fc4): Linear(in_features=512, out_features=10, bias=True)\n",
      "  (droput): Dropout(p=0.2, inplace=False)\n",
      ")\n"
     ]
    }
   ],
   "source": [
    "class MLP(nn.Module):\n",
    "    def __init__(self):\n",
    "        super(MLP,self).__init__()\n",
    "        # numero de nodos en capas ocultas\n",
    "        oculta_1 = 512\n",
    "        oculta_2 = 512\n",
    "        oculta_3 = 512\n",
    "        # linear layer (784 -> oculta_1)\n",
    "        self.fc1 = nn.Linear(28*28, oculta_1)\n",
    "        # linear layer (n_oculta-> oculta_2)\n",
    "        self.fc2 = nn.Linear(oculta_1, oculta_2)\n",
    "        # linear layer (n_oculta -> oculta_3)\n",
    "        self.fc3 = nn.Linear(oculta_2,oculta_3)\n",
    "        # linear layer (n_oculta -> 10) \n",
    "        # 10 es el numero de salidas\n",
    "        self.fc4 = nn.Linear(oculta_3,10)\n",
    "        # dropout layer (p=0.2) \n",
    "        self.droput = nn.Dropout(0.2)\n",
    "        \n",
    "    def forward(self,x):\n",
    "        # aplana la imagen de entrada\n",
    "        x = x.view(-1,28*28)\n",
    "        # se agrega capa oculta con ReLU como funcion de activacion\n",
    "        x = F.relu(self.fc1(x))\n",
    "        # capa de dropout\n",
    "        x = self.droput(x)\n",
    "        # se agrega capa oculta con ReLU como funcion de activacion\n",
    "        x = F.relu(self.fc2(x))\n",
    "        # capa de dropout\n",
    "        x = self.droput(x)\n",
    "        # se agrega capa oculta con ReLU como funcion de activacion\n",
    "        x = F.relu(self.fc3(x))\n",
    "        # capa de dropout\n",
    "        x = self.droput(x)\n",
    "        # Capa de salida\n",
    "        x = self.fc4(x)\n",
    "        return x\n",
    "    \n",
    "# inicializa el MLP\n",
    "model = MLP()\n",
    "print(model)"
   ]
  },
  {
   "cell_type": "code",
   "execution_count": 10,
   "id": "987f0111",
   "metadata": {},
   "outputs": [],
   "source": [
    "# especificar loss function (categorical cross-entropy)\n",
    "criterion = nn.CrossEntropyLoss()\n",
    "# especificar optimizer (stochastic gradient descent) \n",
    "# con un indice de aprendizaje(learning rate) = .01\n",
    "optim = torch.optim.SGD(model.parameters(),lr = 0.01)"
   ]
  },
  {
   "cell_type": "markdown",
   "id": "33f7051e",
   "metadata": {},
   "source": [
    "## Entrenamiento "
   ]
  },
  {
   "cell_type": "code",
   "execution_count": 13,
   "id": "98cca16c",
   "metadata": {},
   "outputs": [
    {
     "name": "stdout",
     "output_type": "stream",
     "text": [
      "Epoca: 1 \tPerdida entrenamiento: 0.285176 \tPerdida validacion: 0.000260\n",
      "Perdida de validacion disminuyo (inf --> 0.000260).  Almaceno el modelo ...\n"
     ]
    }
   ],
   "source": [
    "# numero de epocas para entrenar el MLP\n",
    "n_epocas = 1\n",
    "# inicializar un seguidor para un valor minimo de perdida\n",
    "valida_loss_min = np.Inf  # set initial \"min\" to infinity\n",
    "\n",
    "for epocas in range(n_epocas):\n",
    "    # monitorear las perdidas\n",
    "    entrena_loss = 0\n",
    "    valida_loss = 0\n",
    "    \n",
    "    ######Entrenamiento del modelo\n",
    "    model.train() # prepara el  modelo para entrenamiento\n",
    "    for data,etiqueta in entrena_lec:\n",
    "        # Limpiar los gradientes para las variables optimizadas\n",
    "        optim.zero_grad()\n",
    "        salida = model(data)\n",
    "        # calcula la perdida\n",
    "        loss = criterion(salida,etiqueta)\n",
    "        # Calculo del gradiente de perdida con respecto a los parametros del modelo\n",
    "        loss.backward()\n",
    "        optim.step()\n",
    "        # Actualiza la perdidad \n",
    "        entrena_loss += loss.item() * data.size(0)\n",
    "        \n",
    "        \n",
    "     ####### Validacion del modelo \n",
    "    model.eval()  # Se inicia el modelo para la evaluacion\n",
    "    for data,etiqueta in valida_lec:\n",
    "        # Computa las predicciones de salida pasando las entradas al modelo \n",
    "        salida = model(data)\n",
    "        # Calcula la perdida\n",
    "        loss = criterion(salida,etiqueta)\n",
    "        # Actualiza el valor de perdida\n",
    "        valida_loss = loss.item() * data.size(0)\n",
    "    \n",
    "    # calculo de perdida promedio por epoca\n",
    "    entrena_loss = entrena_loss / len(entrena_lec.sampler)\n",
    "    valida_loss = valida_loss / len(valida_lec.sampler)\n",
    "    \n",
    "    print('Epoca: {} \\tPerdida entrenamiento: {:.6f} \\tPerdida validacion: {:.6f}'.format(\n",
    "        epocas+1, \n",
    "        entrena_loss,\n",
    "        valida_loss\n",
    "        ))\n",
    "    \n",
    "    # Almacena los parametros del modelo si disminuye la perdida\n",
    "    if valida_loss <= valida_loss_min:\n",
    "        print('Perdida de validacion disminuyo ({:.6f} --> {:.6f}).  Almaceno el modelo ...'.format(\n",
    "        valida_loss_min,\n",
    "        valida_loss))\n",
    "        torch.save(model.state_dict(), 'modelo1.pt')\n",
    "        valida_loss_min = valida_loss"
   ]
  },
  {
   "cell_type": "markdown",
   "id": "55bcbc68",
   "metadata": {},
   "source": [
    "# Prueba del MLP"
   ]
  },
  {
   "cell_type": "code",
   "execution_count": 14,
   "id": "10a8a05f",
   "metadata": {},
   "outputs": [
    {
     "data": {
      "text/plain": [
       "<All keys matched successfully>"
      ]
     },
     "execution_count": 14,
     "metadata": {},
     "output_type": "execute_result"
    }
   ],
   "source": [
    "model.load_state_dict(torch.load('modelo1.pt'))"
   ]
  },
  {
   "cell_type": "code",
   "execution_count": 18,
   "id": "bbf7e7a9",
   "metadata": {},
   "outputs": [
    {
     "name": "stdout",
     "output_type": "stream",
     "text": [
      "Perdida de prueba: 0.211218\n",
      "\n",
      "Precision de prueba de     0: 97% (960/980)\n",
      "Precision de prueba de     1: 98% (1116/1135)\n",
      "Precision de prueba de     2: 93% (961/1032)\n",
      "Precision de prueba de     3: 95% (965/1010)\n",
      "Precision de prueba de     4: 94% (929/982)\n",
      "Precision de prueba de     5: 88% (787/892)\n",
      "Precision de prueba de     6: 96% (924/958)\n",
      "Precision de prueba de     7: 92% (951/1028)\n",
      "Precision de prueba de     8: 88% (863/974)\n",
      "Precision de prueba de     9: 91% (925/1009)\n"
     ]
    }
   ],
   "source": [
    "prueba_loss = 0.0\n",
    "clas_correct = list(0. for i in range(10))\n",
    "clas_total = list(0. for i in range(10))\n",
    "\n",
    "model.eval() \n",
    "\n",
    "for data, target in prueba_lec:\n",
    "    \n",
    "    output = model(data)\n",
    "    loss = criterion(output, target)\n",
    "    prueba_loss += loss.item()*data.size(0)\n",
    "    _, pred = torch.max(output, 1)\n",
    "    #Comparar las etiquetas con las predicciones\n",
    "    correct = np.squeeze(pred.eq(target.data.view_as(pred)))\n",
    "    # Calculo de la precision para cada clase\n",
    "    for i in range(len(target)):\n",
    "        label = target.data[i]\n",
    "        clas_correct[label] += correct[i].item()\n",
    "        clas_total[label] += 1\n",
    "prueba_loss = prueba_loss/len(prueba_lec.sampler)\n",
    "print('Perdida de prueba: {:.6f}\\n'.format(prueba_loss))\n",
    "\n",
    "for i in range(10):\n",
    "    if clas_total[i] > 0:\n",
    "        print('Precision de prueba de %5s: %2d%% (%2d/%2d)' % (\n",
    "            str(i), 100 * clas_correct[i] / clas_total[i],\n",
    "            np.sum(clas_correct[i]), np.sum(clas_total[i])))\n",
    "    else:\n",
    "        print('Precision de prueba de %5s: N/A (no hay ejemplos)' % (classes[i]))\n",
    "        print('\\nPrcision de prueba: %2d%% (%2d/%2d)' % (\n",
    "    100. * np.sum(clas_correct) / np.sum(clas_total),\n",
    "    np.sum(clas_correct), np.sum(clas_total)))"
   ]
  },
  {
   "cell_type": "code",
   "execution_count": 21,
   "id": "b3b8ce27",
   "metadata": {},
   "outputs": [
    {
     "name": "stderr",
     "output_type": "stream",
     "text": [
      "/tmp/ipykernel_12483/106672302.py:12: MatplotlibDeprecationWarning: Passing non-integers as three-element position specification is deprecated since 3.3 and will be removed two minor releases later.\n",
      "  ax = fig.add_subplot(2,20/2, idx+1, xticks=[], yticks=[])\n"
     ]
    },
    {
     "data": {
      "image/png": "[encoded data removed]",
      "text/plain": [
       "<Figure size 1800x288 with 20 Axes>"
      ]
     },
     "metadata": {},
     "output_type": "display_data"
    }
   ],
   "source": [
    "#Se toma un conjunto con tamano del batch\n",
    "data_iter = iter(entrena_lec)\n",
    "img, etiquetas = data_iter.next()\n",
    "# predicciones del MLP\n",
    "salida = model(img)\n",
    "_, preds = torch.max(output, 1)\n",
    "#Desplegar las imagenes\n",
    "img = img.numpy()\n",
    "fig = plt.figure(figsize=(25,4))\n",
    "\n",
    "for idx in np.arange(20):\n",
    "    ax = fig.add_subplot(2,20/2, idx+1, xticks=[], yticks=[])\n",
    "    ax.imshow(np.squeeze(img[idx]), cmap = 'gray')\n",
    "    ax.set_title(\"{} ({})\".format(str(preds[idx].item()), str(etiquetas[idx].item())),\n",
    "                 color=(\"green\" if preds[idx]==etiquetas[idx] else \"red\"))"
   ]
  },
  {
   "cell_type": "code",
   "execution_count": null,
   "id": "f4808eeb",
   "metadata": {},
   "outputs": [],
   "source": []
  },
  {
   "cell_type": "code",
   "execution_count": null,
   "id": "f9f720b0",
   "metadata": {},
   "outputs": [],
   "source": []
  },
  {
   "cell_type": "code",
   "execution_count": null,
   "id": "79ecedb4",
   "metadata": {},
   "outputs": [],
   "source": []
  }
 ],
 "metadata": {
  "kernelspec": {
   "display_name": "Python 3.8 (pytorch)",
   "language": "python",
   "name": "pytorch"
  },
  "language_info": {
   "codemirror_mode": {
    "name": "ipython",
    "version": 3
   },
   "file_extension": ".py",
   "mimetype": "text/x-python",
   "name": "python",
   "nbconvert_exporter": "python",
   "pygments_lexer": "ipython3",
   "version": "3.8.11"
  }
 },
 "nbformat": 4,
 "nbformat_minor": 5
}
